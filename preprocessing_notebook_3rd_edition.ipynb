{
  "nbformat": 4,
  "nbformat_minor": 0,
  "metadata": {
    "colab": {
      "provenance": [],
      "toc_visible": true,
      "name": "preprocessing_notebook-3rd-edition.ipynb",
      "authorship_tag": "ABX9TyMNsRkc7oH5YcDUpsg+bQCA",
      "include_colab_link": true
    },
    "kernelspec": {
      "name": "python3",
      "display_name": "Python 3"
    },
    "language_info": {
      "name": "python"
    }
  },
  "cells": [
    {
      "cell_type": "markdown",
      "metadata": {
        "id": "view-in-github",
        "colab_type": "text"
      },
      "source": [
        "<a href=\"https://colab.research.google.com/github/JohnnySolo/Data-Analysis-Project---Blockbuster-Movies/blob/main/preprocessing_notebook_3rd_edition.ipynb\" target=\"_parent\"><img src=\"https://colab.research.google.com/assets/colab-badge.svg\" alt=\"Open In Colab\"/></a>"
      ]
    },
    {
      "cell_type": "markdown",
      "source": [
        "# 🔍 Pre-processing Methodology"
      ],
      "metadata": {
        "id": "acd9Hv0A93mS"
      }
    },
    {
      "cell_type": "markdown",
      "source": [
        "### 1. Data Acquisition\n",
        "I began by acquiring five different datasets from multiple sources. Each dataset was loaded into the environment and assigned a clear name based on its content (e.g., `movie_franchises`, `tmdb_data`, `financial_data`, etc.).\n",
        "\n",
        "### 2. Initial Structure Check\n",
        "For each table:\n",
        "- I previewed the data using `.head()` to assess structure, key columns, and formatting issues.\n",
        "- I identified the potential primary key (movie titles that I named `movie_id`).\n",
        "\n",
        "### 3. NA Summary (Column-Level)\n",
        "I applied a custom function, `quick_column_summary()`, that computes:\n",
        "- Column name\n",
        "- Data type\n",
        "- NA count\n",
        "- % of missing values\n",
        "\n",
        "This allowed me to:\n",
        "- Identify strong vs. weak or unrelevant variables\n",
        "- Understand data quality before any merge\n",
        "\n",
        "### 4. Table Acquisition Summary\n",
        "Each dataset was summarized by its relevant contributions to two modeling goals:\n",
        "\n",
        "| Table | Key Variables |\n",
        "|-------|----------------|\n",
        "| `movie_franchises` | `name`,\t`rating`,\t`genre\tyear`,\t`released`,\t`imdb_score`,\t`votes`,\t`director`,\t`writer`,\t`star`,\t`country`,\t`budget`,\t`gross`,\t`company`,\t`runtime` |\n",
        "| `tmdb_data` | `vote_average`, `vote_count`, `runtime`, `popularity` |\n",
        "| `meta_data` | `cast`, `crew`, `keywords`, `overview`, `tagline` |\n",
        "| `data2` | `Lifetime Gross` |\n",
        "| `financial_data` | `profit`, `worldwide_gross`, genre dummies |\n",
        "\n",
        "We retained only columns with acceptable completeness or analytical value.\n"
      ],
      "metadata": {
        "id": "MnK_fXiC9z3r"
      }
    },
    {
      "cell_type": "code",
      "source": [
        "# Define a compact Column Summary Function for checking NA% - It will help us with the data proccessing along the way\n",
        "def quick_column_summary(df, table_name):\n",
        "    print(f\"\\n📋 Column Summary for `{table_name}`\\n\")\n",
        "    total_rows = len(df)\n",
        "    summary = pd.DataFrame({\n",
        "        'Column': df.columns,\n",
        "        'Data Type': [df[col].dtype for col in df.columns],\n",
        "        'NA Count': [df[col].isna().sum() for col in df.columns],\n",
        "        '% Missing': [df[col].isna().mean() * 100 for col in df.columns]\n",
        "    })\n",
        "    display(summary)"
      ],
      "metadata": {
        "id": "HrHCb4d3zoiI"
      },
      "execution_count": null,
      "outputs": []
    },
    {
      "cell_type": "markdown",
      "source": [
        "# 1st Dataset: Movie Franchises\n",
        "\n"
      ],
      "metadata": {
        "id": "4etTmmWxr9W_"
      }
    },
    {
      "cell_type": "code",
      "source": [
        "# 1. Movie Data Analysis Dataset\n",
        "\n",
        "!wget https://raw.githubusercontent.com/JohnnySolo/Data-Analysis-Project---Blockbuster-Movies/main/movie.csv -O movie.csv\n",
        "\n",
        "# Load the CSV file\n",
        "import pandas as pd\n",
        "movie_franchises = pd.read_csv(\"movie.csv\")"
      ],
      "metadata": {
        "id": "TEOKy5ExpEHU",
        "collapsed": true
      },
      "execution_count": null,
      "outputs": []
    },
    {
      "cell_type": "markdown",
      "source": [
        "### First check"
      ],
      "metadata": {
        "id": "oEhIPx2d1K3x"
      }
    },
    {
      "cell_type": "code",
      "source": [
        "# Display the first few rows\n",
        "movie_franchises.head()"
      ],
      "metadata": {
        "id": "EJoHnZ_VikR3"
      },
      "execution_count": null,
      "outputs": []
    },
    {
      "cell_type": "code",
      "source": [
        "# Check for data types and NA's\n",
        "quick_column_summary(movie_franchises, 'movie_franchises')"
      ],
      "metadata": {
        "id": "M5BTBAihz2h5"
      },
      "execution_count": null,
      "outputs": []
    },
    {
      "cell_type": "code",
      "source": [
        "# Rename the IMDB score column\n",
        "movie_franchises = movie_franchises.rename(columns={\"score\": \"imdb_score\"})  # replace \"score\" with our desirable target name - \"imdb_score\""
      ],
      "metadata": {
        "id": "8e4PwZmaxpqo"
      },
      "execution_count": null,
      "outputs": []
    },
    {
      "cell_type": "code",
      "source": [
        "# Omit observations with NA's in target variables\n",
        "movie_franchises = movie_franchises[\n",
        "    movie_franchises['imdb_score'].notna() &\n",
        "    movie_franchises['budget'].notna() &\n",
        "    movie_franchises['gross'].notna()\n",
        "].copy()"
      ],
      "metadata": {
        "id": "y7ICI2i704eO"
      },
      "execution_count": null,
      "outputs": []
    },
    {
      "cell_type": "markdown",
      "source": [
        "### 📥 Table Acquisition Summary: `movie_franchises`\n",
        "\n",
        "#### 🎯 Relevant Variables\n",
        "\n",
        "| Column         | Description                     | Relevance                          |\n",
        "|----------------|----------------------------------|-------------------------------------|\n",
        "| `name`         | Movie name (key)                | ✅ Unique ID across datasets         |\n",
        "| `imdb_score`   | IMDB rating                     | ✅ Target variable #1                |\n",
        "| `budget`       | Budget in dollars               | 📌 Required for ROI (target #2)     |\n",
        "| `gross`        | Revenue in dollars              | 📌 Required for ROI (target #2)     |\n",
        "| `votes`        | Number of user ratings          | 🧪 May influence IMDB score         |\n",
        "| `genre`, `rating`, `year`, `released` | Movie metadata | 📊 Potential features |\n",
        "| `director`, `writer`, `star`, `company` | People / studio involved | 📊 Potential features |\n",
        "| `runtime`      | Duration in minutes             | 📊 Feature (e.g., audience fatigue) |\n",
        "| `country`      | Country of production           | 📊 Feature for cultural reception   |"
      ],
      "metadata": {
        "id": "s2ioqt7gvlAX"
      }
    },
    {
      "cell_type": "markdown",
      "source": [
        "# 2nd Dataset: additional Movie Franchises"
      ],
      "metadata": {
        "id": "xTq3Q8Sdu8JU"
      }
    },
    {
      "cell_type": "code",
      "source": [
        "# 2. Global Movie Franchise Revenue and Budget Data\n",
        "\n",
        "!wget https://raw.githubusercontent.com/JohnnySolo/Data-Analysis-Project---Blockbuster-Movies/main/MovieFranchises.csv -O MovieFranchises.csv\n",
        "import pandas as pd\n",
        "data2 = pd.read_csv(\"MovieFranchises.csv\") # Save in a different name due to similar name to the 1st dataset"
      ],
      "metadata": {
        "id": "SYGODqvqu7OX"
      },
      "execution_count": null,
      "outputs": []
    },
    {
      "cell_type": "markdown",
      "source": [
        "### First check"
      ],
      "metadata": {
        "id": "j7MnL99m2FHw"
      }
    },
    {
      "cell_type": "code",
      "source": [
        "# Display the first few rows\n",
        "data2.head()"
      ],
      "metadata": {
        "id": "VOJFk727vI0w"
      },
      "execution_count": null,
      "outputs": []
    },
    {
      "cell_type": "code",
      "source": [
        "# Check for data types and NA's\n",
        "quick_column_summary(data2, 'data2')"
      ],
      "metadata": {
        "id": "R9K3DImI2HfE"
      },
      "execution_count": null,
      "outputs": []
    },
    {
      "cell_type": "code",
      "source": [
        "# Keep only the useful parts of data2\n",
        "data2 = data2[['MovieID', 'Title', 'Lifetime Gross']].copy()"
      ],
      "metadata": {
        "id": "IC6cm-MQ23by"
      },
      "execution_count": null,
      "outputs": []
    },
    {
      "cell_type": "markdown",
      "source": [
        "### 📥 Table Acquisition Summary: `data2`\n",
        "\n",
        "This table had lots of missing values. But still, the table includes financial data that can add us more information about our target variable ROI.\n",
        "\n",
        "#### 🔁 Remaining Variables\n",
        "\n",
        "| `movie_franchises` | `studio_financials` | Action |\n",
        "|--------------------|---------------------|--------|\n",
        "| `name`             | `Title`             | Normalize to `movie_id` for matching |\n",
        "| `budget`           | `Budget`            | Compare and retain best version |\n",
        "| `gross`            | `Lifetime Gross`    | Compare with `gross` |\n"
      ],
      "metadata": {
        "id": "93Sa229n7rbQ"
      }
    },
    {
      "cell_type": "markdown",
      "source": [
        "# 3rd Dataset: TMDB data"
      ],
      "metadata": {
        "id": "w2pmmIW487Nz"
      }
    },
    {
      "cell_type": "code",
      "source": [
        "# If the 3rd dataset have error contains \"LocalFileSystem is not supported\" then use the code:\n",
        "# pip install -U datasets"
      ],
      "metadata": {
        "id": "CKEyOstgbM3z"
      },
      "execution_count": null,
      "outputs": []
    },
    {
      "cell_type": "code",
      "source": [
        "# 3. TMDB 5000 Movies Dataset\n",
        "\n",
        "!pip install datasets\n",
        "\n",
        "from datasets import load_dataset\n",
        "import pandas as pd\n",
        "\n",
        "# Load the TMDB dataset from Hugging Face\n",
        "dataset = load_dataset(\"AiresPucrs/tmdb-5000-movies\", split=\"train\")\n",
        "tmdb_data = pd.DataFrame(dataset)\n",
        "\n",
        "# Save the DataFrame to a CSV file\n",
        "tmdb_data.to_csv(\"tmdb_movies.csv\", index=False)\n",
        "\n",
        "# Confirm the file exists in the current directory\n",
        "import os\n",
        "os.listdir()"
      ],
      "metadata": {
        "collapsed": true,
        "id": "3pic9MbU9PJE"
      },
      "execution_count": null,
      "outputs": []
    },
    {
      "cell_type": "markdown",
      "source": [
        "### First Check"
      ],
      "metadata": {
        "id": "1gDsliyS4TvN"
      }
    },
    {
      "cell_type": "code",
      "source": [
        "# Display the first few rows\n",
        "tmdb_data.head()"
      ],
      "metadata": {
        "id": "wW0Qr2Ig9bMI"
      },
      "execution_count": null,
      "outputs": []
    },
    {
      "cell_type": "code",
      "source": [
        "# Check for data types and NA's\n",
        "quick_column_summary(tmdb_data, 'tmdb_data')"
      ],
      "metadata": {
        "id": "gi04EZdF4W7c"
      },
      "execution_count": null,
      "outputs": []
    },
    {
      "cell_type": "markdown",
      "source": [
        "### 📥 Table Acquisition: `tmdb_data`\n",
        "\n",
        "This is the richest and most structured table so far. It includes both structured and nested (JSON-like) data, contributing heavily to both prediction targets.\n",
        "\n",
        "---\n",
        "\n",
        "#### 🎯 Relevant Variables\n",
        "\n",
        "| Column | Description | Relevance |\n",
        "|--------|-------------|-----------|\n",
        "| `title` | Movie name | ✅ Used to create `movie_id` |\n",
        "| `vote_average` | Average audience rating | ✅ Proxy for IMDB score |\n",
        "| `vote_count` | Number of votes | 🧪 May influence or complement score |\n",
        "| `budget` | Production cost | 📌 Required for ROI |\n",
        "| `revenue` | Box office revenue | 📌 Required for ROI |\n",
        "| `runtime` | Duration in minutes | 📊 Feature for pacing / cost |\n",
        "| `popularity` | TMDB popularity score | 📊 Social visibility |\n",
        "| `release_date` | Date released | 📊 Use for time features (month, year) |\n",
        "| `genres` | List of genres (JSON) | 🧠 To parse later for genre-based analysis |\n",
        "| `keywords` | Thematic keywords (JSON) | 🧠 Useful after parsing |\n",
        "| `overview`, `tagline` | Textual summary & tagline | 🧠 Potential for NLP sentiment modeling |\n",
        "| `original_language` | Language code (e.g., 'en') | 📊 Cultural/demographic indicator |\n",
        "| `production_companies` | Companies involved (JSON) | 🧠 Feature engineering (studio power) |\n",
        "| `production_countries` | Countries involved (JSON) | 📊 International impact |\n",
        "| `spoken_languages` | Languages spoken (JSON) | 📊 Audience reach |\n",
        "| `cast`, `crew` | Cast and crew (JSON) | 🧠 Feature-rich, parse later |\n",
        "| `status` | e.g., Released, Post-production, etc. | 🧪 May correlate with box office |\n",
        "\n",
        "---\n",
        "\n",
        "#### 🧠 Summary\n",
        "\n",
        "- This table contributes to both `imdb_score_features` and `roi_features`\n",
        "- Contains multiple nested fields that will be parsed during feature engineering\n",
        "- Will be save in SQLite as `raw_tmdb_data`\n"
      ],
      "metadata": {
        "id": "u6olQFFJ_qVF"
      }
    },
    {
      "cell_type": "markdown",
      "source": [
        "# 4th Dataset: Meta-Analysis Data"
      ],
      "metadata": {
        "id": "wAcrxrYFBa6o"
      }
    },
    {
      "cell_type": "code",
      "source": [
        "# 4. Complete Movie Metadata Dataset\n",
        "\n",
        "from google.colab import drive\n",
        "drive.mount('/content/drive')\n",
        "\n",
        "import pandas as pd\n",
        "file_path = '/content/drive/My Drive/Projects/Blockbuster Movies/movies.csv'  # Adjust path as needed\n",
        "meta_data = pd.read_csv(file_path)\n",
        "\n",
        "# Save the DataFrame to a CSV file\n",
        "meta_data.to_csv(\"movies.csv\", index=False)\n",
        "\n",
        "# Confirm the file exists in the current directory\n",
        "import os\n",
        "os.listdir()"
      ],
      "metadata": {
        "collapsed": true,
        "id": "OkL0OjtRBXi5"
      },
      "execution_count": null,
      "outputs": []
    },
    {
      "cell_type": "markdown",
      "source": [
        "### First Check"
      ],
      "metadata": {
        "id": "oVWM36hG4lix"
      }
    },
    {
      "cell_type": "code",
      "source": [
        "# Display the first few rows\n",
        "meta_data.head()"
      ],
      "metadata": {
        "id": "6S7wbTO9B7DX"
      },
      "execution_count": null,
      "outputs": []
    },
    {
      "cell_type": "code",
      "source": [
        "# Check for data types and NA's\n",
        "quick_column_summary(meta_data, 'meta_data')"
      ],
      "metadata": {
        "id": "WYV5UG4o4o39"
      },
      "execution_count": null,
      "outputs": []
    },
    {
      "cell_type": "markdown",
      "source": [
        "### 📥 Table Acquisition: `meta_data`\n",
        "\n",
        "This dataset appears to be an updated or complementary version of `tmdb_data`, containing recent and upcoming titles with similar structure.\n",
        "\n",
        "---\n",
        "\n",
        "#### 🎯 Relevant Variables\n",
        "\n",
        "| Column | Description | Relevance |\n",
        "|--------|-------------|-----------|\n",
        "| `title` | Movie title | ✅ Used to create `movie_id` |\n",
        "| `vote_average` / `vote_count` | User rating and count | ✅ Score-related |\n",
        "| `budget`, `revenue` | Financial data | 📌 Used for ROI |\n",
        "| `runtime`, `release_date` | Timing & length | 📊 Influences score & ROI |\n",
        "| `popularity` | TMDB popularity score | 📊 Social reach |\n",
        "| `genres`, `keywords`, `overview`, `tagline` | Text / tags | 🧠 Feature-rich, parse later |\n",
        "| `original_language` | Language code | 📊 Cultural signal |\n",
        "| `status` | Release status | 🧪 Could correlate with results |\n",
        "| `production_companies` | Studios involved | 🧠 To group studio trends |\n",
        "| `credits` | Raw cast and crew | 🧠 To parse later for influence modeling |\n",
        "\n",
        "---\n",
        "\n",
        "#### 🧠 Summary\n",
        "\n",
        "- High overlap with `tmdb_data` (Table 3) — strong candidate for integration\n",
        "- Contributes to both `imdb_score_features` and `roi_features`\n",
        "- Will require deduplication and possible enrichment during post-acquisition phase\n",
        "- Will be save in SQLite as `meta_data`\n"
      ],
      "metadata": {
        "id": "j8_GvnarEs-u"
      }
    },
    {
      "cell_type": "markdown",
      "source": [
        "# 5th Dataset: Revenues Data"
      ],
      "metadata": {
        "id": "FfGX2vCPBmcc"
      }
    },
    {
      "cell_type": "code",
      "source": [
        "# 5. Movie Revenue Analysis Dataset\n",
        "\n",
        "!wget https://raw.githubusercontent.com/JohnnySolo/Data-Analysis-Project---Blockbuster-Movies/main/final_dataset.csv -O final_dataset.csv\n",
        "import pandas as pd\n",
        "financial_data = pd.read_csv(\"final_dataset.csv\")"
      ],
      "metadata": {
        "collapsed": true,
        "id": "4z19WBYGBxih"
      },
      "execution_count": null,
      "outputs": []
    },
    {
      "cell_type": "markdown",
      "source": [
        "### First Check"
      ],
      "metadata": {
        "id": "w0z1kiyR5FQg"
      }
    },
    {
      "cell_type": "code",
      "source": [
        "# Display the first few rows\n",
        "financial_data.head()"
      ],
      "metadata": {
        "id": "7JOpBfrcB4XI"
      },
      "execution_count": null,
      "outputs": []
    },
    {
      "cell_type": "code",
      "source": [
        "# Check for data types and NA's\n",
        "quick_column_summary(financial_data, 'financial_data')"
      ],
      "metadata": {
        "id": "Do61Z2QW5Hf_"
      },
      "execution_count": null,
      "outputs": []
    },
    {
      "cell_type": "markdown",
      "source": [
        "### 📥 Table Acquisition: `financial_data`\n",
        "\n",
        "This table is highly focused on financial metrics and genre distribution. It provides engineered columns for ROI, profit, and genre flags, making it very valuable for prediction.\n",
        "\n",
        "---\n",
        "\n",
        "#### 🎯 Relevant Variables\n",
        "\n",
        "| Column | Description | Relevance |\n",
        "|--------|-------------|-----------|\n",
        "| `movie` | Movie name | ✅ Used to create `movie_id` |\n",
        "| `production_budget`, `domestic_gross`, `foreign_gross`, `worldwide_gross` | Raw inputs for ROI | ✅ |\n",
        "| `profit`, `roi`, `profit_margin`, `pct_foreign` | Pre-calculated finance metrics | ✅ |\n",
        "| `vote_average`, `vote_count`, `popularity` | Score-related audience signals | ✅ |\n",
        "| `original_language`, `release_date`, `month` | Contextual/cultural features | ✅ |\n",
        "| `Action`, `Drama`, etc. | Binary genre flags | ✅ Helps both score and ROI models |\n",
        "\n",
        "---\n",
        "\n",
        "#### 🧠 Summary\n",
        "\n",
        "- Strongest financial data table (calculated ROI & profit)\n",
        "- Includes one-hot encoded genre info (clean and ready)\n",
        "- Will contribute to both `imdb_score_features` and `roi_features`\n",
        "- Saved in SQLite as `raw_financial_data`\n"
      ],
      "metadata": {
        "id": "puHBf620GQQr"
      }
    },
    {
      "cell_type": "markdown",
      "source": [
        "---"
      ],
      "metadata": {
        "id": "jVEJ7EU07hdF"
      }
    },
    {
      "cell_type": "markdown",
      "source": [
        "# Full Preprocessing & Integration Pipeline"
      ],
      "metadata": {
        "id": "P1FXfTrcGvSx"
      }
    },
    {
      "cell_type": "markdown",
      "source": [
        "## 🔗 Data Consolidation & Final Dataset Preparation\n",
        "\n",
        "### 1. Normalizing Identifiers\n",
        "To prepare for merging:\n",
        "- I created a **primary key** called `movie_id` in each dataset using the cleaned movie title (`name`, `title`, or `movie`) columns.\n",
        "- Each name was normalized (lowercase, stripped whitespace) to ensure consistent joining across tables.\n",
        "\n",
        "### 2. Merging Strategy\n",
        "I used a **left join** strategy starting from `movie_franchises` as the base table.  \n",
        "Why left join?\n",
        "- It ensured we preserved only relevant and valid movies (with complete modeling targets).\n",
        "- Still keeping the base data in `movie_franchises` and only add to it (with inner-join we could have lost all the data that isn't in all the sets and be left with a smaller sample of movies).\n",
        "- Avoided introducing excessive NAs from mismatched movie entries across datasets (can happen with outer-join).\n",
        "\n",
        "### 3. Post-Merge Cleaning\n",
        "After joining:\n",
        "- I dropped duplicate variables (e.g., `vote_average_y`, `runtime_x`) and renamed important ones clearly.\n",
        "- Used logic to **fill in genre dummy columns** from the `genre` column when genre indicators were missing.\n",
        "- All genre columns were validated to contain proper 0/1 indicators for classification tasks.\n",
        "\n",
        "### 4. Organizing the Dataset\n",
        "I reordered columns based on:\n",
        "- **Target modeling relevance** (e.g., `imdb_score`)\n",
        "- **Predictive features** (e.g., votes, budget, genre dummies)\n",
        "- **Meta content** (overview, keywords, cast)\n",
        "\n",
        "### 5. Final Export\n",
        "I saved the final processed dataset to a `.csv` file and uploaded it to my GitHub repository.  \n",
        "This final version will be loaded in the next notebook for:\n",
        "- Exploratory Data Analysis (EDA)\n",
        "- Feature Engineering\n",
        "- Model Building\n",
        "\n"
      ],
      "metadata": {
        "id": "H2aPdhdL-2wc"
      }
    },
    {
      "cell_type": "markdown",
      "source": [
        "## 1. Normalization"
      ],
      "metadata": {
        "id": "ZeSeL-tRCSZA"
      }
    },
    {
      "cell_type": "code",
      "source": [
        "def normalize_title(title):\n",
        "    return title.str.strip().str.lower()\n",
        "\n",
        "movie_franchises['movie_id'] = normalize_title(movie_franchises['name'])\n",
        "data2['movie_id'] = normalize_title(data2['Title'])\n",
        "tmdb_data['movie_id'] = normalize_title(tmdb_data['title'])\n",
        "meta_data['movie_id'] = normalize_title(meta_data['title'])\n",
        "financial_data['movie_id'] = normalize_title(financial_data['movie'])"
      ],
      "metadata": {
        "id": "SAweSmV3nyX1"
      },
      "execution_count": null,
      "outputs": []
    },
    {
      "cell_type": "markdown",
      "source": [
        "## 2. Merging Data (by left-join)"
      ],
      "metadata": {
        "id": "fi4b9eVCCVwi"
      }
    },
    {
      "cell_type": "code",
      "source": [
        "enriched = movie_franchises.merge(\n",
        "    financial_data[['movie_id', 'roi', 'production_budget', 'worldwide_gross', 'profit','Action', 'Adventure', 'Animation', 'Comedy', 'Crime',\n",
        "       'Documentary', 'Drama', 'Family', 'Fantasy', 'History', 'Horror',\n",
        "       'Music', 'Mystery', 'Romance', 'Science Fiction', 'TV Movie',\n",
        "       'Thriller', 'War', 'Western']],\n",
        "    on='movie_id',\n",
        "    how='left'\n",
        ")\n",
        "\n",
        "enriched = enriched.merge(\n",
        "    tmdb_data[['movie_id', 'vote_average', 'vote_count', 'popularity', 'runtime','homepage', 'keywords','overview','tagline','cast', 'crew',]],\n",
        "    on='movie_id',\n",
        "    how='left'\n",
        ")\n",
        "\n",
        "enriched = enriched.merge(\n",
        "    meta_data[['movie_id', 'vote_average', 'vote_count', 'popularity', 'runtime', 'keywords','overview','tagline','recommendations']],\n",
        "    on='movie_id',\n",
        "    how='left'\n",
        ")"
      ],
      "metadata": {
        "id": "aO0QoO_PoiJ8"
      },
      "execution_count": null,
      "outputs": []
    },
    {
      "cell_type": "code",
      "source": [
        "enriched['na_count'] = enriched.isna().sum(axis=1)\n",
        "enriched = enriched.sort_values(by='na_count').drop_duplicates(subset='movie_id', keep='first')\n",
        "enriched = enriched.drop(columns='na_count')\n",
        "enriched"
      ],
      "metadata": {
        "id": "oz0cTPoqowPq"
      },
      "execution_count": null,
      "outputs": []
    },
    {
      "cell_type": "markdown",
      "source": [
        "## 3. Post-Merging Cleaning"
      ],
      "metadata": {
        "id": "3k-ZqssCCrPn"
      }
    },
    {
      "cell_type": "code",
      "source": [
        "# Check for data types and NA's\n",
        "quick_column_summary(enriched, 'enriched')"
      ],
      "metadata": {
        "id": "89Zv-XIpmV_A"
      },
      "execution_count": null,
      "outputs": []
    },
    {
      "cell_type": "markdown",
      "source": [
        "Assumptions from the outlook:\n",
        "\n",
        "1. Duplicate columns: We can see that some of the columns are duplicates of others (For example, `tagline_x` and `tagline_y`). It happened because some of the datasets we merged had the same column in both.\n",
        "2. High percentage NA's: Some of the columns have high NA count. We can see that most of them are duplicates columns and genre classification columns (`Action`, ..., `Western`)\n",
        "\n",
        "Action: We'll omit the duplicates, specifically the higher NA percentage. I'll leave the genre classification columns to be, because we can edit the missing data with the genre column as long as it has 0% NA (and it does)."
      ],
      "metadata": {
        "id": "PtSntQS8qBCb"
      }
    },
    {
      "cell_type": "code",
      "source": [
        "# 1. Omit the duplicates columns. The column with the higher NA% will be the one we'll omit\n",
        "enriched_better = enriched[['name', 'rating', 'genre', 'year', 'released', 'imdb_score', 'votes',\n",
        "       'director', 'writer', 'star', 'country', 'budget', 'gross', 'company',\n",
        "       'runtime_x', 'movie_id','production_budget', 'worldwide_gross',\n",
        "       'profit', 'Action', 'Adventure', 'Animation', 'Comedy', 'Crime',\n",
        "       'Documentary', 'Drama', 'Family', 'Fantasy', 'History', 'Horror',\n",
        "       'Music', 'Mystery', 'Romance', 'Science Fiction', 'TV Movie',\n",
        "       'Thriller', 'War', 'Western','homepage','cast', 'crew', 'vote_average_y', 'vote_count_y',\n",
        "       'popularity_y', 'runtime', 'keywords_y', 'overview_y', 'tagline_y',\n",
        "       'recommendations']]"
      ],
      "metadata": {
        "id": "2Xiaa7ofqEXD"
      },
      "execution_count": null,
      "outputs": []
    },
    {
      "cell_type": "code",
      "source": [
        "# 2. Edit genre columns based on the genre column values\n",
        "\n",
        "# Define the full set of genre dummy columns\n",
        "genre_columns = [\n",
        "    'Action', 'Adventure', 'Animation', 'Comedy', 'Crime', 'Documentary',\n",
        "    'Drama', 'Family', 'Fantasy', 'History', 'Horror', 'Music', 'Mystery',\n",
        "    'Romance', 'Science Fiction', 'TV Movie', 'Thriller', 'War', 'Western'\n",
        "]\n",
        "\n",
        "# Ensure all genre columns exist and are numeric\n",
        "for col in genre_columns:\n",
        "    if col not in enriched_better.columns:\n",
        "        enriched_better[col] = pd.NA  # Create missing columns\n",
        "    enriched_better[col] = enriched_better[col].astype(\"float\")  # Force numeric\n",
        "\n",
        "# Mask for rows where all genre columns are missing\n",
        "genre_na_mask = enriched_better[genre_columns].isna().all(axis=1)\n",
        "\n",
        "# Update those rows based on the 'genre' column\n",
        "for idx in enriched_better[genre_na_mask].index:\n",
        "    genre_str = enriched_better.loc[idx, 'genre']\n",
        "    genre_list = [g.strip() for g in str(genre_str).split('|')] if pd.notna(genre_str) else []\n",
        "\n",
        "    for col in genre_columns:\n",
        "        enriched_better.at[idx, col] = 1.0 if col in genre_list else 0.0"
      ],
      "metadata": {
        "id": "u1u4zWHJn3Ax"
      },
      "execution_count": null,
      "outputs": []
    },
    {
      "cell_type": "markdown",
      "source": [
        "## 4. Organizing the Dataset"
      ],
      "metadata": {
        "id": "Pe00cMCSCxwK"
      }
    },
    {
      "cell_type": "code",
      "source": [
        "# Rearrange the columns based on order of importance and NA%\n",
        "enriched_best = enriched_better [['movie_id','rating', 'genre', 'year', 'released', 'imdb_score', 'votes',\n",
        "       'director', 'writer', 'star', 'country', 'budget', 'gross', 'company',\n",
        "       'runtime_x','vote_average_y', 'vote_count_y', 'popularity_y',\n",
        "       'keywords_y','Action', 'Adventure', 'Animation', 'Comedy', 'Crime', 'Documentary',\n",
        "       'Drama', 'Family', 'Fantasy', 'History', 'Horror', 'Music', 'Mystery',\n",
        "       'Romance', 'Science Fiction', 'TV Movie', 'Thriller', 'War', 'Western','production_budget', 'worldwide_gross', 'profit' ,'overview_y', 'tagline_y', 'recommendations']]"
      ],
      "metadata": {
        "id": "EqIRYHUPyTCB"
      },
      "execution_count": null,
      "outputs": []
    },
    {
      "cell_type": "code",
      "source": [
        "# Check for missing columns in the reordering list\n",
        "col_list = ['movie_id','rating', 'genre', 'year', 'released', 'imdb_score', 'votes',\n",
        "       'director', 'writer', 'star', 'country', 'budget', 'gross', 'company',\n",
        "       'runtime_x','vote_average_y', 'vote_count_y', 'popularity_y',\n",
        "       'keywords_y','Action', 'Adventure', 'Animation', 'Comedy', 'Crime', 'Documentary',\n",
        "       'Drama', 'Family', 'Fantasy', 'History', 'Horror', 'Music', 'Mystery',\n",
        "       'Romance', 'Science Fiction', 'TV Movie', 'Thriller', 'War', 'Western','production_budget', 'worldwide_gross', 'profit' ,'overview_y', 'tagline_y', 'recommendations']\n",
        "\n",
        "missing = [col for col in col_list if col not in enriched_best.columns]\n",
        "print(\"❗ Missing columns:\", missing)"
      ],
      "metadata": {
        "id": "6TmmMHqB2Ogu"
      },
      "execution_count": null,
      "outputs": []
    },
    {
      "cell_type": "code",
      "source": [
        "# Check for data types and NA's\n",
        "quick_column_summary(enriched_best, 'enriched_best')"
      ],
      "metadata": {
        "id": "EQmFg2754DDv"
      },
      "execution_count": null,
      "outputs": []
    },
    {
      "cell_type": "code",
      "source": [
        "# Rename the columns that were duplicates before\n",
        "# Define a dictionary of old column names to new ones\n",
        "rename_map = {\n",
        "    'runtime_x': 'runtime',\n",
        "    'vote_average_y': 'vote_average',\n",
        "    'vote_count_y': 'vote_count',\n",
        "    'popularity_y': 'popularity',\n",
        "    'tagline_y': 'tagline',\n",
        "    'keywords_y': 'keywords',\n",
        "    'overview_y': 'overview'\n",
        "}\n",
        "\n",
        "# Apply renaming in one line\n",
        "enriched_best = enriched_best.rename(columns=rename_map)"
      ],
      "metadata": {
        "id": "Qi3IhbIR6atc"
      },
      "execution_count": null,
      "outputs": []
    },
    {
      "cell_type": "markdown",
      "source": [
        "## 5. Final Export"
      ],
      "metadata": {
        "id": "PLHS9l-tC3Ne"
      }
    },
    {
      "cell_type": "code",
      "source": [
        "# Save to local file (which will also show up in Colab's Files tab)\n",
        "enriched_best.to_csv(\"final_movie_data.csv\", index=False)\n",
        "\n",
        "from google.colab import files\n",
        "files.download('final_movie_data.csv')  # or any other filename you want to download"
      ],
      "metadata": {
        "id": "LpYhd6G7o89q"
      },
      "execution_count": null,
      "outputs": []
    },
    {
      "cell_type": "markdown",
      "source": [
        "---"
      ],
      "metadata": {
        "id": "Ll4ABvq-mdnQ"
      }
    }
  ]
}